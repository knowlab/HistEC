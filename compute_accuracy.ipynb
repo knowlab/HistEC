{
 "cells": [
  {
   "cell_type": "code",
   "execution_count": 1,
   "id": "a49b18fc-9c70-47e4-8739-2ece2b216cba",
   "metadata": {},
   "outputs": [],
   "source": [
    "import json\n",
    "import pandas as pd\n",
    "from glob import glob"
   ]
  },
  {
   "cell_type": "code",
   "execution_count": null,
   "id": "1f173ec8-4d91-4d9a-a028-b979ebef4ecb",
   "metadata": {},
   "outputs": [],
   "source": [
    "with open('HistEC_dataset.json') as f:\n",
    "    gt_dataset=json.loads(f.read())\n",
    "gt_list=[g['answer'] for g in gt_dataset]\n",
    "df=pd.DataFrame(gt_dataset)"
   ]
  },
  {
   "cell_type": "code",
   "execution_count": null,
   "id": "170d7cec-fd4c-4a42-91b8-c0bf782d00cc",
   "metadata": {},
   "outputs": [],
   "source": [
    "models=[]\n",
    "for fp in [i for i in glob('*.jsonl'):\n",
    "    pred_dataset=[json.loads(l) for l in f.readlines()]\n",
    "    pred_list=[i['pred_response'] if type(i['pred_response'])==str else i['pred_response'][0] for i in pred_dataset]\n",
    "    \n",
    "    correct=[]\n",
    "    for gt, pred in zip(gt_list, pred_list):\n",
    "        if gt.lower()==pred.lower():\n",
    "            correct.append(True)\n",
    "        elif len(pred)==1 and gt.lower().startswith(pred.lower()):\n",
    "            correct.append(True)\n",
    "        elif len(pred)==0:\n",
    "            correct.append(False)\n",
    "        elif pred.strip().lower() in gt.lower():\n",
    "            correct.append(True)\n",
    "        elif len(gt)>3 and gt[3:].strip().lower() in pred.lower():\n",
    "            correct.append(True)\n",
    "        elif gt==\"Yes\" and pred.lower().startswith('yes'):\n",
    "            correct.append(True)\n",
    "        elif gt==\"No\" and pred.lower().startswith('no'):\n",
    "            correct.append(True)\n",
    "        else:\n",
    "            correct.append(False)\n",
    "    model_name=fp.replace('.jsonl', '')\n",
    "    models.append(model_name)\n",
    "    df[model_name]=correct"
   ]
  },
  {
   "cell_type": "code",
   "execution_count": null,
   "id": "6b61f25a-3b15-41e1-bf0b-ee89bdea5e6d",
   "metadata": {},
   "outputs": [],
   "source": [
    "for model in models:\n",
    "    print(model, len(df[df[model]])/len(df)*100)"
   ]
  }
 ],
 "metadata": {
  "kernelspec": {
   "display_name": "Python 3 (ipykernel)",
   "language": "python",
   "name": "python3"
  },
  "language_info": {
   "codemirror_mode": {
    "name": "ipython",
    "version": 3
   },
   "file_extension": ".py",
   "mimetype": "text/x-python",
   "name": "python",
   "nbconvert_exporter": "python",
   "pygments_lexer": "ipython3",
   "version": "3.10.13"
  }
 },
 "nbformat": 4,
 "nbformat_minor": 5
}
